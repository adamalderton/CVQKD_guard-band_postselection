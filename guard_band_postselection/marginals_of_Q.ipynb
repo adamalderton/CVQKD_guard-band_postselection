{
 "cells": [
  {
   "cell_type": "code",
   "execution_count": 1,
   "metadata": {},
   "outputs": [],
   "source": [
    "import numpy as np\n",
    "import sympy as sp\n",
    "from scipy.integrate import quad\n",
    "\n",
    "from tqdm.notebook import tqdm\n",
    "from time import sleep\n",
    "\n",
    "import seaborn\n",
    "import matplotlib.pyplot as plt"
   ]
  },
  {
   "cell_type": "code",
   "execution_count": 12,
   "metadata": {},
   "outputs": [
    {
     "data": {
      "text/latex": [
       "$\\displaystyle \\frac{e^{- a \\left|{\\alpha}\\right|^{2} - b \\left|{\\beta}\\right|^{2} - 2 c \\cos{\\left(\\arg{\\left(\\alpha \\right)} - \\arg{\\left(\\beta \\right)} \\right)} \\left|{\\alpha}\\right| \\left|{\\beta}\\right|} \\left|{a b - c^{2}}\\right|}{\\pi^{2}}$"
      ],
      "text/plain": [
       "exp(-a*Abs(alpha)**2 - b*Abs(beta)**2 - 2*c*cos(arg(alpha) - arg(beta))*Abs(alpha)*Abs(beta))*Abs(a*b - c**2)/pi**2"
      ]
     },
     "execution_count": 12,
     "metadata": {},
     "output_type": "execute_result"
    }
   ],
   "source": [
    "# Define the symbols\n",
    "alpha, beta = sp.symbols('alpha beta', complex=True)\n",
    "a, b, c = sp.symbols('a b c', real=True, positive=True)\n",
    "\n",
    "# Construct the Sigma matrix\n",
    "Sigma = sp.Matrix([\n",
    "    [a, 0, c, 0],\n",
    "    [0, a, 0, -c],\n",
    "    [c, 0, b, 0],\n",
    "    [0, -c, 0, b]\n",
    "])\n",
    "\n",
    "# Calculate the determinant of Sigma\n",
    "det_Sigma = Sigma.det()\n",
    "\n",
    "# Define the magnitude and argument functions\n",
    "abs_alpha = sp.Abs(alpha)\n",
    "abs_beta = sp.Abs(beta)\n",
    "arg_alpha = sp.arg(alpha)\n",
    "arg_beta = sp.arg(beta)\n",
    "\n",
    "# Construct the expression for Q(alpha, beta)\n",
    "Q = (sp.sqrt(det_Sigma) / sp.pi**2) * sp.exp(-a * abs_alpha**2 - b * abs_beta**2 - 2 * c * abs_alpha * abs_beta * sp.cos(arg_alpha - arg_beta))\n",
    "\n",
    "Q"
   ]
  },
  {
   "cell_type": "code",
   "execution_count": 16,
   "metadata": {},
   "outputs": [
    {
     "data": {
      "text/latex": [
       "$\\displaystyle \\frac{e^{- a \\alpha_{re}^{2}} \\left|{a b - c^{2}}\\right| \\int\\limits_{-\\infty}^{\\infty} e^{- a \\alpha_{im}^{2}} \\int\\limits_{-\\infty}^{\\infty} e^{- b \\beta_{im}^{2}} \\int\\limits_{-\\infty}^{\\infty} e^{- b \\beta_{re}^{2}} e^{- 2 c \\sqrt{\\alpha_{im}^{2} + \\alpha_{re}^{2}} \\sqrt{\\beta_{im}^{2} + \\beta_{re}^{2}} \\cos{\\left(\\arg{\\left(i \\alpha_{im} + \\alpha_{re} \\right)} - \\arg{\\left(i \\beta_{im} + \\beta_{re} \\right)} \\right)}}\\, d\\beta_{re}\\, d\\beta_{im}\\, d\\alpha_{im}}{\\pi^{2}}$"
      ],
      "text/plain": [
       "exp(-a*alpha_re**2)*Abs(a*b - c**2)*Integral(exp(-a*alpha_im**2)*Integral(exp(-b*beta_im**2)*Integral(exp(-b*beta_re**2)*exp(-2*c*sqrt(alpha_im**2 + alpha_re**2)*sqrt(beta_im**2 + beta_re**2)*cos(arg(I*alpha_im + alpha_re) - arg(I*beta_im + beta_re))), (beta_re, -oo, oo)), (beta_im, -oo, oo)), (alpha_im, -oo, oo))/pi**2"
      ]
     },
     "execution_count": 16,
     "metadata": {},
     "output_type": "execute_result"
    }
   ],
   "source": [
    "# Define the integration variables. That is, the real and imaginary parts of alpha and beta\n",
    "alpha_re, alpha_im, beta_re, beta_im = sp.symbols('alpha_re alpha_im beta_re beta_im', real=True)\n",
    "\n",
    "# Substitute in the actual values to integrate over\n",
    "Q_re_and_im = Q.subs([(alpha, alpha_re + sp.I * alpha_im), (beta, beta_re + sp.I * beta_im)])\n",
    "\n",
    "# Symbolically integrate over beta_re, beta_im and alpha im\n",
    "Q_alpha_re = sp.integrate(Q_re_and_im, (beta_re, -sp.oo, sp.oo), (beta_im, -sp.oo, sp.oo), (alpha_im, -sp.oo, sp.oo))\n",
    "\n",
    "Q_alpha_re"
   ]
  },
  {
   "cell_type": "code",
   "execution_count": 17,
   "metadata": {},
   "outputs": [],
   "source": [
    "# Lambdify the expression for numerical evaluation, for a given a, b and c. For a = 1, b = 1 and c = 0, this should reduce to a Gaussian integral. For any parameter values, the result should be 1.\n",
    "Q_alpha_re_lambdified = sp.lambdify(alpha_re, Q_alpha_re.subs([(a, 1), (b, 1), (c, 0)]).simplify(), 'numpy')"
   ]
  },
  {
   "cell_type": "code",
   "execution_count": null,
   "metadata": {},
   "outputs": [],
   "source": []
  }
 ],
 "metadata": {
  "kernelspec": {
   "display_name": "base",
   "language": "python",
   "name": "python3"
  },
  "language_info": {
   "codemirror_mode": {
    "name": "ipython",
    "version": 3
   },
   "file_extension": ".py",
   "mimetype": "text/x-python",
   "name": "python",
   "nbconvert_exporter": "python",
   "pygments_lexer": "ipython3",
   "version": "3.11.9"
  }
 },
 "nbformat": 4,
 "nbformat_minor": 2
}
