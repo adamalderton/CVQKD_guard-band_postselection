{
 "cells": [
  {
   "cell_type": "markdown",
   "metadata": {},
   "source": [
    "# $m = 1$ Optimal Guard Band Width\n",
    "\n",
    "Notebook to investigate the optimal guard band width for the case of $m = 1$, for the paper. Optimal guard band width should be assessed for bits/pulse and bits/second, which are very different! Also, the KL divergence of the resulting distribution with respect to that of a Gaussian should be looked in to."
   ]
  },
  {
   "cell_type": "code",
   "execution_count": null,
   "metadata": {},
   "outputs": [],
   "source": [
    "import numpy as np\n",
    "import sympy as sp"
   ]
  }
 ],
 "metadata": {
  "language_info": {
   "name": "python"
  }
 },
 "nbformat": 4,
 "nbformat_minor": 2
}
